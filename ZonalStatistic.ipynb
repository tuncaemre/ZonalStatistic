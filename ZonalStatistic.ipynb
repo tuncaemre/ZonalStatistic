{
 "cells": [
  {
   "cell_type": "markdown",
   "metadata": {},
   "source": [
    "# İnputların Girilmesi"
   ]
  },
  {
   "cell_type": "code",
   "execution_count": null,
   "metadata": {},
   "outputs": [],
   "source": [
    "from rasterstats import zonal_stats\n",
    "import pandas as pd"
   ]
  },
  {
   "cell_type": "markdown",
   "metadata": {},
   "source": [
    "# shp ve image değişkenleri localde belirle, birde kaydedilecek dosya adı verilecek"
   ]
  },
  {
   "cell_type": "code",
   "execution_count": 26,
   "metadata": {},
   "outputs": [],
   "source": [
    "shp= \"full_area2.shp\"\n",
    "image =\"20190810-ETd.tif\" \n",
    "\n",
    "\n",
    "m=zonal_stats(shp, image ,stats=\"mean\") #stats=[\"mean\",\"max\"] bir den fazla istatistik için\n",
    "\n",
    "\n",
    "dframe=pd.DataFrame(m)\n",
    "dframe.index = dframe.index + 1   #dataFrame index değerlerini 1 den başlatmak için yazıldı\n",
    "dframe.to_csv(\"emre2.txt\",sep=\"-\")\n",
    "\n",
    "#dosyaadı kısmına goruntuler[i][32:39]+'.csv' yazılabilir."
   ]
  },
  {
   "cell_type": "code",
   "execution_count": null,
   "metadata": {},
   "outputs": [],
   "source": []
  }
 ],
 "metadata": {
  "kernelspec": {
   "display_name": "Python 3",
   "language": "python",
   "name": "python3"
  },
  "language_info": {
   "codemirror_mode": {
    "name": "ipython",
    "version": 3
   },
   "file_extension": ".py",
   "mimetype": "text/x-python",
   "name": "python",
   "nbconvert_exporter": "python",
   "pygments_lexer": "ipython3",
   "version": "3.7.6"
  }
 },
 "nbformat": 4,
 "nbformat_minor": 4
}
